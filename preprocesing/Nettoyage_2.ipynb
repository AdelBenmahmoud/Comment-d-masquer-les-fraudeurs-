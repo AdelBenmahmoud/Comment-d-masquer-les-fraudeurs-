{
 "cells": [
  {
   "cell_type": "code",
   "execution_count": 1,
   "id": "04f09eb4",
   "metadata": {},
   "outputs": [],
   "source": [
    "import pandas as pd\n",
    "import numpy as np\n",
    "import matplotlib.pyplot as plt\n",
    "import seaborn as sns\n",
    "pd.set_option('display.max_columns', None)\n",
    "pd.set_option('display.max_rows', None)"
   ]
  },
  {
   "cell_type": "code",
   "execution_count": 1,
   "id": "78fd2458",
   "metadata": {},
   "outputs": [
    {
     "ename": "NameError",
     "evalue": "name 'pd' is not defined",
     "output_type": "error",
     "traceback": [
      "\u001b[1;31m---------------------------------------------------------------------------\u001b[0m",
      "\u001b[1;31mNameError\u001b[0m                                 Traceback (most recent call last)",
      "\u001b[1;32m~\\AppData\\Local\\Temp\\ipykernel_10992\\2539912968.py\u001b[0m in \u001b[0;36m<module>\u001b[1;34m\u001b[0m\n\u001b[1;32m----> 1\u001b[1;33m \u001b[0mx_train\u001b[0m\u001b[1;33m=\u001b[0m\u001b[0mpd\u001b[0m\u001b[1;33m.\u001b[0m\u001b[0mread_csv\u001b[0m\u001b[1;33m(\u001b[0m\u001b[1;34m'X_test_8skS2ey.csv'\u001b[0m\u001b[1;33m,\u001b[0m\u001b[0mlow_memory\u001b[0m\u001b[1;33m=\u001b[0m\u001b[1;32mFalse\u001b[0m\u001b[1;33m)\u001b[0m\u001b[1;33m\u001b[0m\u001b[1;33m\u001b[0m\u001b[0m\n\u001b[0m",
      "\u001b[1;31mNameError\u001b[0m: name 'pd' is not defined"
     ]
    }
   ],
   "source": [
    "x_train=pd.read_csv('X_test_8skS2ey.csv',low_memory=False)"
   ]
  },
  {
   "cell_type": "code",
   "execution_count": 3,
   "id": "ceed202a",
   "metadata": {},
   "outputs": [],
   "source": [
    "xtrain_copy = x_train.copy()"
   ]
  },
  {
   "cell_type": "code",
   "execution_count": 4,
   "id": "ff7a41e1",
   "metadata": {},
   "outputs": [],
   "source": [
    "for i in range(1,25):\n",
    "    xtrain_copy[f'item{i}']=xtrain_copy[f'item{i}'].fillna(\"\")\n",
    "    \n",
    "    \n",
    "xtrain_copy['item']=xtrain_copy['item1']\n",
    "for i in range(2,25):\n",
    "    xtrain_copy['item'] = xtrain_copy['item'] + \" \" + xtrain_copy[f'item{i}']\n",
    "    \n",
    "for i in range(1,25):\n",
    "    xtrain_copy=xtrain_copy.drop([f'item{i}'],axis=1)"
   ]
  },
  {
   "cell_type": "code",
   "execution_count": 5,
   "id": "a07a8877",
   "metadata": {},
   "outputs": [],
   "source": [
    "for i in range(1,25):\n",
    "    \n",
    "    xtrain_copy[f'cash_price{i}'] = xtrain_copy[f'cash_price{i}'].fillna(0)\n",
    "    \n",
    "xtrain_copy['cash_price']=xtrain_copy['cash_price1']\n",
    "for i in range(2,25):\n",
    "    xtrain_copy['cash_price'] = xtrain_copy['cash_price'] + xtrain_copy[f'cash_price{i}']\n",
    "\n",
    "for i in range(1,25):\n",
    "    xtrain_copy=xtrain_copy.drop([f'cash_price{i}'],axis=1)"
   ]
  },
  {
   "cell_type": "code",
   "execution_count": 6,
   "id": "3d01c736",
   "metadata": {},
   "outputs": [],
   "source": [
    "for i in range(1,25):\n",
    "    \n",
    "    xtrain_copy[f'make{i}'] = xtrain_copy[f'make{i}'].fillna(\"\")\n",
    "\n",
    "xtrain_copy['make']=xtrain_copy['make1']\n",
    "for i in range(2,25):\n",
    "    xtrain_copy['make'] = xtrain_copy['make'] + \" \" + xtrain_copy[f'make{i}']\n",
    "\n",
    "for i in range(1,25):\n",
    "    xtrain_copy=xtrain_copy.drop([f'make{i}'],axis=1)"
   ]
  },
  {
   "cell_type": "code",
   "execution_count": 7,
   "id": "0f144886",
   "metadata": {},
   "outputs": [],
   "source": [
    "for i in range(1,25):\n",
    "    \n",
    "    xtrain_copy[f'model{i}'] = xtrain_copy[f'model{i}'].fillna(\"\")\n",
    "xtrain_copy['model']=xtrain_copy['model1']\n",
    "for i in range(2,25):\n",
    "    xtrain_copy['model'] = xtrain_copy['model'] + \" \" + xtrain_copy[f'model{i}']\n",
    "\n",
    "for i in range(1,25):\n",
    "    xtrain_copy=xtrain_copy.drop([f'model{i}'],axis=1)"
   ]
  },
  {
   "cell_type": "code",
   "execution_count": 8,
   "id": "8b051ba6",
   "metadata": {},
   "outputs": [],
   "source": [
    "for i in range(1,25):\n",
    "    xtrain_copy=xtrain_copy.drop([f'goods_code{i}'],axis=1)\n",
    "    xtrain_copy=xtrain_copy.drop([f'Nbr_of_prod_purchas{i}'],axis=1)"
   ]
  },
  {
   "cell_type": "code",
   "execution_count": 9,
   "id": "5fc410af",
   "metadata": {},
   "outputs": [
    {
     "data": {
      "text/html": [
       "<div>\n",
       "<style scoped>\n",
       "    .dataframe tbody tr th:only-of-type {\n",
       "        vertical-align: middle;\n",
       "    }\n",
       "\n",
       "    .dataframe tbody tr th {\n",
       "        vertical-align: top;\n",
       "    }\n",
       "\n",
       "    .dataframe thead th {\n",
       "        text-align: right;\n",
       "    }\n",
       "</style>\n",
       "<table border=\"1\" class=\"dataframe\">\n",
       "  <thead>\n",
       "    <tr style=\"text-align: right;\">\n",
       "      <th></th>\n",
       "      <th>ID</th>\n",
       "      <th>Nb_of_items</th>\n",
       "      <th>item</th>\n",
       "      <th>cash_price</th>\n",
       "      <th>make</th>\n",
       "      <th>model</th>\n",
       "    </tr>\n",
       "  </thead>\n",
       "  <tbody>\n",
       "    <tr>\n",
       "      <th>0</th>\n",
       "      <td>64707</td>\n",
       "      <td>1.0</td>\n",
       "      <td>HEALTH BEAUTY ELECTRICAL</td>\n",
       "      <td>399.0</td>\n",
       "      <td>DYSON</td>\n",
       "      <td>DYSON CORRALE CORD-FREE HAIR STRAIGHTENERS    ...</td>\n",
       "    </tr>\n",
       "    <tr>\n",
       "      <th>1</th>\n",
       "      <td>63919</td>\n",
       "      <td>1.0</td>\n",
       "      <td>COMPUTER PERIPHERALS ACCESSORIES              ...</td>\n",
       "      <td>294.0</td>\n",
       "      <td>SAMSUNG</td>\n",
       "      <td>SAMSUNG GALAXY WATCH 4 CLASSIC BLUETOOTH 46MM ...</td>\n",
       "    </tr>\n",
       "    <tr>\n",
       "      <th>2</th>\n",
       "      <td>15664</td>\n",
       "      <td>1.0</td>\n",
       "      <td>COMPUTERS</td>\n",
       "      <td>929.0</td>\n",
       "      <td>APPLE</td>\n",
       "      <td>2020 APPLE MACBOOK AIR</td>\n",
       "    </tr>\n",
       "    <tr>\n",
       "      <th>3</th>\n",
       "      <td>6626</td>\n",
       "      <td>2.0</td>\n",
       "      <td>COMPUTERS FULFILMENT CHARGE</td>\n",
       "      <td>546.0</td>\n",
       "      <td>APPLE RETAILER</td>\n",
       "      <td>2020 APPLE IPAD AIR 10.9\" RETAILER            ...</td>\n",
       "    </tr>\n",
       "    <tr>\n",
       "      <th>4</th>\n",
       "      <td>26766</td>\n",
       "      <td>1.0</td>\n",
       "      <td>COMPUTERS</td>\n",
       "      <td>2470.0</td>\n",
       "      <td>APPLE</td>\n",
       "      <td>2019 APPLE MACBOOK PRO 16 TOUCH BAR INTEL CORE...</td>\n",
       "    </tr>\n",
       "  </tbody>\n",
       "</table>\n",
       "</div>"
      ],
      "text/plain": [
       "      ID  Nb_of_items                                               item  \\\n",
       "0  64707          1.0    HEALTH BEAUTY ELECTRICAL                          \n",
       "1  63919          1.0  COMPUTER PERIPHERALS ACCESSORIES              ...   \n",
       "2  15664          1.0                   COMPUTERS                          \n",
       "3   6626          2.0  COMPUTERS FULFILMENT CHARGE                         \n",
       "4  26766          1.0                   COMPUTERS                          \n",
       "\n",
       "   cash_price                                  make  \\\n",
       "0       399.0          DYSON                          \n",
       "1       294.0        SAMSUNG                          \n",
       "2       929.0          APPLE                          \n",
       "3       546.0  APPLE RETAILER                         \n",
       "4      2470.0          APPLE                          \n",
       "\n",
       "                                               model  \n",
       "0  DYSON CORRALE CORD-FREE HAIR STRAIGHTENERS    ...  \n",
       "1  SAMSUNG GALAXY WATCH 4 CLASSIC BLUETOOTH 46MM ...  \n",
       "2      2020 APPLE MACBOOK AIR                         \n",
       "3  2020 APPLE IPAD AIR 10.9\" RETAILER            ...  \n",
       "4  2019 APPLE MACBOOK PRO 16 TOUCH BAR INTEL CORE...  "
      ]
     },
     "execution_count": 9,
     "metadata": {},
     "output_type": "execute_result"
    }
   ],
   "source": [
    "xtrain_copy.head()"
   ]
  },
  {
   "cell_type": "code",
   "execution_count": 10,
   "id": "35d15800",
   "metadata": {},
   "outputs": [],
   "source": [
    "data=xtrain_copy.copy()"
   ]
  },
  {
   "cell_type": "code",
   "execution_count": null,
   "id": "a122e12f",
   "metadata": {},
   "outputs": [],
   "source": []
  },
  {
   "cell_type": "code",
   "execution_count": 11,
   "id": "37601768",
   "metadata": {},
   "outputs": [
    {
     "name": "stderr",
     "output_type": "stream",
     "text": [
      "C:\\Users\\admin\\AppData\\Local\\Temp\\ipykernel_1336\\2091822257.py:9: SettingWithCopyWarning: \n",
      "A value is trying to be set on a copy of a slice from a DataFrame\n",
      "\n",
      "See the caveats in the documentation: https://pandas.pydata.org/pandas-docs/stable/user_guide/indexing.html#returning-a-view-versus-a-copy\n",
      "  data['item'][i] = resultantList\n"
     ]
    }
   ],
   "source": [
    "# Supprimer les doublons et espaces\n",
    "\n",
    "for i in range(data.shape[0]):\n",
    "    \n",
    "    resultantList = []\n",
    "    for element in (data['item'][i].split()):\n",
    "        if element not in resultantList:\n",
    "            resultantList.append(element)\n",
    "    data['item'][i] = resultantList"
   ]
  },
  {
   "cell_type": "code",
   "execution_count": 12,
   "id": "30980f87",
   "metadata": {},
   "outputs": [
    {
     "name": "stderr",
     "output_type": "stream",
     "text": [
      "C:\\Users\\admin\\AppData\\Local\\Temp\\ipykernel_1336\\2155603033.py:8: SettingWithCopyWarning: \n",
      "A value is trying to be set on a copy of a slice from a DataFrame\n",
      "\n",
      "See the caveats in the documentation: https://pandas.pydata.org/pandas-docs/stable/user_guide/indexing.html#returning-a-view-versus-a-copy\n",
      "  data['item'][i] = mystring\n"
     ]
    }
   ],
   "source": [
    "# convert list to chaine\n",
    "\n",
    "for i in range(data.shape[0]):\n",
    "\n",
    "    mystring = ''\n",
    "    for x in data['item'][i]:\n",
    "        mystring += ''+ x\n",
    "    data['item'][i] = mystring"
   ]
  },
  {
   "cell_type": "code",
   "execution_count": 13,
   "id": "0a4a5f37",
   "metadata": {},
   "outputs": [
    {
     "name": "stderr",
     "output_type": "stream",
     "text": [
      "C:\\Users\\admin\\AppData\\Local\\Temp\\ipykernel_1336\\1052069911.py:9: SettingWithCopyWarning: \n",
      "A value is trying to be set on a copy of a slice from a DataFrame\n",
      "\n",
      "See the caveats in the documentation: https://pandas.pydata.org/pandas-docs/stable/user_guide/indexing.html#returning-a-view-versus-a-copy\n",
      "  data['make'][i] = resultantList\n"
     ]
    }
   ],
   "source": [
    "# Supprimer les doublons et espaces\n",
    "\n",
    "for i in range(data.shape[0]):\n",
    "    \n",
    "    resultantList = []\n",
    "    for element in (data['make'][i].split()):\n",
    "        if element not in resultantList:\n",
    "            resultantList.append(element)\n",
    "    data['make'][i] = resultantList"
   ]
  },
  {
   "cell_type": "code",
   "execution_count": 14,
   "id": "1d874bd1",
   "metadata": {},
   "outputs": [
    {
     "name": "stderr",
     "output_type": "stream",
     "text": [
      "C:\\Users\\admin\\AppData\\Local\\Temp\\ipykernel_1336\\1011731607.py:9: SettingWithCopyWarning: \n",
      "A value is trying to be set on a copy of a slice from a DataFrame\n",
      "\n",
      "See the caveats in the documentation: https://pandas.pydata.org/pandas-docs/stable/user_guide/indexing.html#returning-a-view-versus-a-copy\n",
      "  data['make'][i] = mystring\n"
     ]
    }
   ],
   "source": [
    "# convert list to chaine\n",
    "\n",
    "\n",
    "for i in range(data.shape[0]):\n",
    "\n",
    "    mystring = ''\n",
    "    for x in data['make'][i]:\n",
    "        mystring += ''+ x\n",
    "    data['make'][i] = mystring"
   ]
  },
  {
   "cell_type": "code",
   "execution_count": 15,
   "id": "c5d8af72",
   "metadata": {},
   "outputs": [
    {
     "name": "stderr",
     "output_type": "stream",
     "text": [
      "C:\\Users\\admin\\AppData\\Local\\Temp\\ipykernel_1336\\1773954395.py:9: SettingWithCopyWarning: \n",
      "A value is trying to be set on a copy of a slice from a DataFrame\n",
      "\n",
      "See the caveats in the documentation: https://pandas.pydata.org/pandas-docs/stable/user_guide/indexing.html#returning-a-view-versus-a-copy\n",
      "  data['model'][i] = resultantList\n"
     ]
    }
   ],
   "source": [
    "# Supprimer les doublons et espaces\n",
    "\n",
    "for i in range(data.shape[0]):\n",
    "    \n",
    "    resultantList = []\n",
    "    for element in (data['model'][i].split()):\n",
    "        if element not in resultantList:\n",
    "            resultantList.append(element)\n",
    "    data['model'][i] = resultantList"
   ]
  },
  {
   "cell_type": "code",
   "execution_count": 16,
   "id": "44faac2a",
   "metadata": {},
   "outputs": [
    {
     "name": "stderr",
     "output_type": "stream",
     "text": [
      "C:\\Users\\admin\\AppData\\Local\\Temp\\ipykernel_1336\\2041522211.py:7: SettingWithCopyWarning: \n",
      "A value is trying to be set on a copy of a slice from a DataFrame\n",
      "\n",
      "See the caveats in the documentation: https://pandas.pydata.org/pandas-docs/stable/user_guide/indexing.html#returning-a-view-versus-a-copy\n",
      "  data['model'][i] = mystring\n"
     ]
    }
   ],
   "source": [
    "\n",
    "# convert list to chaine\n",
    "for i in range(data.shape[0]):\n",
    "\n",
    "    mystring = ''\n",
    "    for x in data['model'][i]:\n",
    "        mystring += ''+ x\n",
    "    data['model'][i] = mystring"
   ]
  },
  {
   "cell_type": "code",
   "execution_count": null,
   "id": "5ad38b18",
   "metadata": {},
   "outputs": [],
   "source": []
  },
  {
   "cell_type": "code",
   "execution_count": null,
   "id": "3713b0b8",
   "metadata": {},
   "outputs": [],
   "source": []
  },
  {
   "cell_type": "code",
   "execution_count": null,
   "id": "354d36aa",
   "metadata": {},
   "outputs": [],
   "source": []
  },
  {
   "cell_type": "markdown",
   "id": "1b5640c4",
   "metadata": {},
   "source": [
    "# data processing"
   ]
  },
  {
   "cell_type": "code",
   "execution_count": 17,
   "id": "8b39f247",
   "metadata": {},
   "outputs": [],
   "source": [
    "from sklearn import preprocessing\n",
    "\n",
    "number = preprocessing.LabelEncoder()\n",
    "#number = preprocessing.OneHotEncoder()\n",
    "\n",
    "data['make'] = number.fit_transform(data.make)\n",
    "data['item'] = number.fit_transform(data.item)\n",
    "data['model'] = number.fit_transform(data.model)"
   ]
  },
  {
   "cell_type": "code",
   "execution_count": null,
   "id": "33272afc",
   "metadata": {},
   "outputs": [],
   "source": []
  },
  {
   "cell_type": "code",
   "execution_count": 18,
   "id": "774101e4",
   "metadata": {},
   "outputs": [
    {
     "data": {
      "text/html": [
       "<div>\n",
       "<style scoped>\n",
       "    .dataframe tbody tr th:only-of-type {\n",
       "        vertical-align: middle;\n",
       "    }\n",
       "\n",
       "    .dataframe tbody tr th {\n",
       "        vertical-align: top;\n",
       "    }\n",
       "\n",
       "    .dataframe thead th {\n",
       "        text-align: right;\n",
       "    }\n",
       "</style>\n",
       "<table border=\"1\" class=\"dataframe\">\n",
       "  <thead>\n",
       "    <tr style=\"text-align: right;\">\n",
       "      <th></th>\n",
       "      <th>ID</th>\n",
       "      <th>Nb_of_items</th>\n",
       "      <th>item</th>\n",
       "      <th>cash_price</th>\n",
       "      <th>make</th>\n",
       "      <th>model</th>\n",
       "    </tr>\n",
       "  </thead>\n",
       "  <tbody>\n",
       "    <tr>\n",
       "      <th>0</th>\n",
       "      <td>64707</td>\n",
       "      <td>1.0</td>\n",
       "      <td>642</td>\n",
       "      <td>399.0</td>\n",
       "      <td>259</td>\n",
       "      <td>1912</td>\n",
       "    </tr>\n",
       "    <tr>\n",
       "      <th>1</th>\n",
       "      <td>63919</td>\n",
       "      <td>1.0</td>\n",
       "      <td>332</td>\n",
       "      <td>294.0</td>\n",
       "      <td>741</td>\n",
       "      <td>3674</td>\n",
       "    </tr>\n",
       "    <tr>\n",
       "      <th>2</th>\n",
       "      <td>15664</td>\n",
       "      <td>1.0</td>\n",
       "      <td>400</td>\n",
       "      <td>929.0</td>\n",
       "      <td>46</td>\n",
       "      <td>210</td>\n",
       "    </tr>\n",
       "    <tr>\n",
       "      <th>3</th>\n",
       "      <td>6626</td>\n",
       "      <td>2.0</td>\n",
       "      <td>494</td>\n",
       "      <td>546.0</td>\n",
       "      <td>125</td>\n",
       "      <td>103</td>\n",
       "    </tr>\n",
       "    <tr>\n",
       "      <th>4</th>\n",
       "      <td>26766</td>\n",
       "      <td>1.0</td>\n",
       "      <td>400</td>\n",
       "      <td>2470.0</td>\n",
       "      <td>46</td>\n",
       "      <td>29</td>\n",
       "    </tr>\n",
       "  </tbody>\n",
       "</table>\n",
       "</div>"
      ],
      "text/plain": [
       "      ID  Nb_of_items  item  cash_price  make  model\n",
       "0  64707          1.0   642       399.0   259   1912\n",
       "1  63919          1.0   332       294.0   741   3674\n",
       "2  15664          1.0   400       929.0    46    210\n",
       "3   6626          2.0   494       546.0   125    103\n",
       "4  26766          1.0   400      2470.0    46     29"
      ]
     },
     "execution_count": 18,
     "metadata": {},
     "output_type": "execute_result"
    }
   ],
   "source": [
    "data.head()"
   ]
  },
  {
   "cell_type": "code",
   "execution_count": null,
   "id": "4ed18436",
   "metadata": {},
   "outputs": [],
   "source": []
  },
  {
   "cell_type": "code",
   "execution_count": 19,
   "id": "0bab5cf2",
   "metadata": {},
   "outputs": [],
   "source": [
    "data.to_csv('pre_process_xtest.csv')"
   ]
  }
 ],
 "metadata": {
  "kernelspec": {
   "display_name": "Python 3 (ipykernel)",
   "language": "python",
   "name": "python3"
  },
  "language_info": {
   "codemirror_mode": {
    "name": "ipython",
    "version": 3
   },
   "file_extension": ".py",
   "mimetype": "text/x-python",
   "name": "python",
   "nbconvert_exporter": "python",
   "pygments_lexer": "ipython3",
   "version": "3.9.13"
  }
 },
 "nbformat": 4,
 "nbformat_minor": 5
}
